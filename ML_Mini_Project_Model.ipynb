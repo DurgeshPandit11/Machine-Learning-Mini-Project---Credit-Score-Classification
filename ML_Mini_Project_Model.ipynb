{
  "cells": [
    {
      "cell_type": "markdown",
      "id": "e066b352",
      "metadata": {
        "id": "e066b352"
      },
      "source": [
        "<center><h4>ML-1 Mini Project Task 3</h4></center>\n",
        "Apply suitable representation to build appropriate ML model for your dataset.<br>\n",
        "Evaluate the performance of your model."
      ]
    },
    {
      "cell_type": "code",
      "execution_count": null,
      "id": "42a9c05e",
      "metadata": {
        "id": "42a9c05e"
      },
      "outputs": [],
      "source": [
        "import pandas as pd"
      ]
    },
    {
      "cell_type": "code",
      "execution_count": null,
      "id": "0c597140",
      "metadata": {
        "scrolled": false,
        "id": "0c597140",
        "outputId": "fa4ed813-477a-4a98-8a95-6ad2a6f115c8"
      },
      "outputs": [
        {
          "name": "stdout",
          "output_type": "stream",
          "text": [
            "Collecting xgboostNote: you may need to restart the kernel to use updated packages.\n",
            "\n",
            "  Downloading xgboost-1.7.5-py3-none-win_amd64.whl (70.9 MB)\n",
            "     ---------------------------------------- 70.9/70.9 MB 2.6 MB/s eta 0:00:00\n",
            "Requirement already satisfied: numpy in c:\\users\\durge\\anaconda3\\lib\\site-packages (from xgboost) (1.21.5)\n",
            "Requirement already satisfied: scipy in c:\\users\\durge\\anaconda3\\lib\\site-packages (from xgboost) (1.9.1)\n",
            "Installing collected packages: xgboost\n",
            "Successfully installed xgboost-1.7.5\n"
          ]
        }
      ],
      "source": [
        "pip install xgboost"
      ]
    },
    {
      "cell_type": "code",
      "execution_count": null,
      "id": "f2169ba8",
      "metadata": {
        "id": "f2169ba8"
      },
      "outputs": [],
      "source": [
        "# Package to split dataset into traing and testing set\n",
        "\n",
        "from sklearn.model_selection import train_test_split"
      ]
    },
    {
      "cell_type": "code",
      "execution_count": null,
      "id": "1cf5628d",
      "metadata": {
        "id": "1cf5628d"
      },
      "outputs": [],
      "source": [
        "# Packages for modelling and evaluation\n",
        "\n",
        "from sklearn.experimental import enable_hist_gradient_boosting\n",
        "\n",
        "from sklearn.ensemble import (\n",
        "    BaggingClassifier,\n",
        "    ExtraTreesClassifier,\n",
        "    RandomForestClassifier,\n",
        "    StackingClassifier,\n",
        "    HistGradientBoostingClassifier\n",
        ")\n",
        "from sklearn.preprocessing import PowerTransformer\n",
        "\n",
        "from xgboost import XGBClassifier\n",
        "\n",
        "from sklearn.metrics import classification_report\n",
        "\n",
        "import joblib"
      ]
    },
    {
      "cell_type": "code",
      "execution_count": null,
      "id": "7a21ff88",
      "metadata": {
        "id": "7a21ff88"
      },
      "outputs": [],
      "source": [
        "df = pd.read_csv(\"C:\\\\Users\\\\durge\\\\Documents\\\\ML-1 Mini Project\\\\Dataset\\\\credit_score_preprocessed_data.csv\")"
      ]
    },
    {
      "cell_type": "code",
      "execution_count": null,
      "id": "4b60c266",
      "metadata": {
        "id": "4b60c266"
      },
      "outputs": [],
      "source": [
        "# defining X and Y datasets\n",
        "X, Y = df.drop(\"Credit_Score\", axis=1).values , df[\"Credit_Score\"]"
      ]
    },
    {
      "cell_type": "code",
      "execution_count": null,
      "id": "fa980f19",
      "metadata": {
        "id": "fa980f19",
        "outputId": "670d6cfe-04a1-4f06-ddf8-c2b34eb3d64a"
      },
      "outputs": [
        {
          "data": {
            "text/plain": [
              "1    0.53174\n",
              "0    0.28998\n",
              "2    0.17828\n",
              "Name: Credit_Score, dtype: float64"
            ]
          },
          "execution_count": 58,
          "metadata": {},
          "output_type": "execute_result"
        }
      ],
      "source": [
        "Y.value_counts(normalize=True)"
      ]
    },
    {
      "cell_type": "code",
      "execution_count": null,
      "id": "c8d8250b",
      "metadata": {
        "id": "c8d8250b"
      },
      "outputs": [],
      "source": [
        "from imblearn.over_sampling import SMOTE\n",
        "\n",
        "rus = SMOTE(sampling_strategy='auto')\n",
        "X_data_rus, Y_data_rus = rus.fit_resample(X, Y)"
      ]
    },
    {
      "cell_type": "code",
      "execution_count": null,
      "id": "20525d7d",
      "metadata": {
        "scrolled": true,
        "id": "20525d7d",
        "outputId": "5d944de2-8793-4ba5-8f5d-aa5c541510b7"
      },
      "outputs": [
        {
          "data": {
            "text/plain": [
              "2    0.333333\n",
              "1    0.333333\n",
              "0    0.333333\n",
              "Name: Credit_Score, dtype: float64"
            ]
          },
          "execution_count": 62,
          "metadata": {},
          "output_type": "execute_result"
        }
      ],
      "source": [
        "Y_data_rus.value_counts(normalize=True)"
      ]
    },
    {
      "cell_type": "code",
      "execution_count": null,
      "id": "557bd3fd",
      "metadata": {
        "id": "557bd3fd"
      },
      "outputs": [],
      "source": [
        "X_train, X_test, Y_train, Y_test = train_test_split(X, Y, test_size = 0.25, random_state = 42)"
      ]
    },
    {
      "cell_type": "code",
      "execution_count": null,
      "id": "dbf5b088",
      "metadata": {
        "id": "dbf5b088"
      },
      "outputs": [],
      "source": [
        "scalar = PowerTransformer(method='yeo-johnson', standardize=True).fit(X_train)"
      ]
    },
    {
      "cell_type": "code",
      "execution_count": null,
      "id": "f0f1d0a3",
      "metadata": {
        "id": "f0f1d0a3"
      },
      "outputs": [],
      "source": [
        "X_train = scalar.transform(X_train)\n",
        "X_test = scalar.transform(X_test)"
      ]
    },
    {
      "cell_type": "code",
      "execution_count": null,
      "id": "78eccc36",
      "metadata": {
        "id": "78eccc36"
      },
      "outputs": [],
      "source": [
        "# Building an ensemble model\n",
        "\n",
        "# Learner 1\n",
        "bagging = BaggingClassifier(n_jobs=-1)\n",
        "\n",
        "# Learner 2\n",
        "extraTrees = ExtraTreesClassifier(max_depth=10, n_jobs=-1)\n",
        "\n",
        "# Learner 3\n",
        "randomForest = RandomForestClassifier(n_jobs=-1)\n",
        "\n",
        "# Learner 4\n",
        "histGradientBoosting = HistGradientBoostingClassifier()\n",
        "\n",
        "# Learner 5\n",
        "XGB = XGBClassifier(n_jobs=-1)\n",
        "\n",
        "# The ensemble model\n",
        "model = StackingClassifier([\n",
        "    ('bagging', bagging),\n",
        "    ('extraTress', extraTrees),\n",
        "    ('randomforest', randomForest),\n",
        "    ('histGradientBoosting', histGradientBoosting),\n",
        "    ('XGB', XGB)\n",
        "], n_jobs=-1)"
      ]
    },
    {
      "cell_type": "code",
      "execution_count": null,
      "id": "fa35d0c5",
      "metadata": {
        "id": "fa35d0c5",
        "outputId": "b6c2d953-7d29-4622-86cc-28c07679c4ef"
      },
      "outputs": [
        {
          "name": "stderr",
          "output_type": "stream",
          "text": [
            "C:\\Users\\durge\\anaconda3\\lib\\site-packages\\sklearn\\linear_model\\_logistic.py:814: ConvergenceWarning: lbfgs failed to converge (status=1):\n",
            "STOP: TOTAL NO. of ITERATIONS REACHED LIMIT.\n",
            "\n",
            "Increase the number of iterations (max_iter) or scale the data as shown in:\n",
            "    https://scikit-learn.org/stable/modules/preprocessing.html\n",
            "Please also refer to the documentation for alternative solver options:\n",
            "    https://scikit-learn.org/stable/modules/linear_model.html#logistic-regression\n",
            "  n_iter_i = _check_optimize_result(\n"
          ]
        },
        {
          "data": {
            "text/plain": [
              "StackingClassifier(estimators=[('bagging', BaggingClassifier(n_jobs=-1)),\n",
              "                               ('extraTress',\n",
              "                                ExtraTreesClassifier(max_depth=10, n_jobs=-1)),\n",
              "                               ('randomforest',\n",
              "                                RandomForestClassifier(n_jobs=-1)),\n",
              "                               ('histGradientBoosting',\n",
              "                                HistGradientBoostingClassifier()),\n",
              "                               ('XGB',\n",
              "                                XGBClassifier(base_score=None, booster=None,\n",
              "                                              callbacks=None,\n",
              "                                              colsample_bylevel=None,\n",
              "                                              colsample_bynode=None...\n",
              "                                              gpu_id=None, grow_policy=None,\n",
              "                                              importance_type=None,\n",
              "                                              interaction_constraints=None,\n",
              "                                              learning_rate=None, max_bin=None,\n",
              "                                              max_cat_threshold=None,\n",
              "                                              max_cat_to_onehot=None,\n",
              "                                              max_delta_step=None,\n",
              "                                              max_depth=None, max_leaves=None,\n",
              "                                              min_child_weight=None,\n",
              "                                              missing=nan,\n",
              "                                              monotone_constraints=None,\n",
              "                                              n_estimators=100, n_jobs=-1,\n",
              "                                              num_parallel_tree=None,\n",
              "                                              predictor=None, random_state=None, ...))],\n",
              "                   n_jobs=-1)"
            ]
          },
          "execution_count": 70,
          "metadata": {},
          "output_type": "execute_result"
        }
      ],
      "source": [
        "model.fit(X_train, Y_train)"
      ]
    },
    {
      "cell_type": "code",
      "execution_count": null,
      "id": "e5a8f614",
      "metadata": {
        "id": "e5a8f614",
        "outputId": "49fffe18-59d9-4ee3-9619-2702715cfe32"
      },
      "outputs": [
        {
          "name": "stdout",
          "output_type": "stream",
          "text": [
            "Train Score:  0.99972\n"
          ]
        }
      ],
      "source": [
        "print(\"Train Score: \",model.score(X_train, Y_train))"
      ]
    },
    {
      "cell_type": "code",
      "execution_count": null,
      "id": "6d937c66",
      "metadata": {
        "id": "6d937c66",
        "outputId": "9cc270b1-35d6-4f6b-d0b6-10a34b3322c1"
      },
      "outputs": [
        {
          "name": "stdout",
          "output_type": "stream",
          "text": [
            "Test Score:  0.81412\n"
          ]
        }
      ],
      "source": [
        "print(\"Test Score: \",model.score(X_test, Y_test))"
      ]
    },
    {
      "cell_type": "code",
      "execution_count": null,
      "id": "07988084",
      "metadata": {
        "id": "07988084"
      },
      "outputs": [],
      "source": [
        "Y_pred = model.predict(X_test)"
      ]
    },
    {
      "cell_type": "code",
      "execution_count": null,
      "id": "8571a70f",
      "metadata": {
        "id": "8571a70f",
        "outputId": "70a2cb41-1da6-462a-d4fc-f9a8434832dd"
      },
      "outputs": [
        {
          "name": "stdout",
          "output_type": "stream",
          "text": [
            "              precision    recall  f1-score   support\n",
            "\n",
            "           0       0.83      0.80      0.81      7550\n",
            "           1       0.82      0.83      0.83     13245\n",
            "           2       0.76      0.80      0.78      4205\n",
            "\n",
            "    accuracy                           0.81     25000\n",
            "   macro avg       0.80      0.81      0.81     25000\n",
            "weighted avg       0.81      0.81      0.81     25000\n",
            "\n"
          ]
        }
      ],
      "source": [
        "print(classification_report(Y_pred, Y_test))"
      ]
    }
  ],
  "metadata": {
    "kernelspec": {
      "display_name": "Python 3 (ipykernel)",
      "language": "python",
      "name": "python3"
    },
    "language_info": {
      "codemirror_mode": {
        "name": "ipython",
        "version": 3
      },
      "file_extension": ".py",
      "mimetype": "text/x-python",
      "name": "python",
      "nbconvert_exporter": "python",
      "pygments_lexer": "ipython3",
      "version": "3.9.13"
    },
    "colab": {
      "provenance": []
    }
  },
  "nbformat": 4,
  "nbformat_minor": 5
}